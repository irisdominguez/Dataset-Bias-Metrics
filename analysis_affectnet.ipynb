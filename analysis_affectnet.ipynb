{
 "cells": [
  {
   "cell_type": "code",
   "execution_count": null,
   "id": "170ef0c4",
   "metadata": {},
   "outputs": [],
   "source": [
    "%matplotlib inline\n",
    "from fastai.vision.all import *\n",
    "import sklearn\n",
    "from fer import *"
   ]
  },
  {
   "cell_type": "code",
   "execution_count": null,
   "id": "adbc445c-36d2-49ec-bb56-9958f7cd463d",
   "metadata": {},
   "outputs": [],
   "source": [
    "from matplotlib import ticker"
   ]
  },
  {
   "cell_type": "code",
   "execution_count": null,
   "id": "eb569ade-6641-4ae0-b40c-3ecc99396f2f",
   "metadata": {},
   "outputs": [],
   "source": [
    "setMatPlotLib(style='latex')"
   ]
  },
  {
   "cell_type": "code",
   "execution_count": null,
   "id": "5800c2a4-8f91-433f-8542-53bca90f5e84",
   "metadata": {},
   "outputs": [],
   "source": [
    "import ipywidgets as widgets\n",
    "from ipywidgets import interact, interact_manual"
   ]
  },
  {
   "cell_type": "code",
   "execution_count": null,
   "id": "fa5a3963",
   "metadata": {},
   "outputs": [],
   "source": [
    "%load_ext autoreload\n",
    "%autoreload 2"
   ]
  },
  {
   "cell_type": "code",
   "execution_count": null,
   "id": "e0b8fbb7-15f1-42cd-91d5-04177c149774",
   "metadata": {},
   "outputs": [],
   "source": [
    "import os\n",
    "USE_GPUS = '0,1,2,3'\n",
    "os.environ['CUDA_DEVICE_ORDER']='PCI_BUS_ID'\n",
    "os.environ['CUDA_VISIBLE_DEVICES'] = USE_GPUS\n",
    "N_GPUS = len(USE_GPUS.split(','))"
   ]
  },
  {
   "cell_type": "code",
   "execution_count": null,
   "id": "2f011728-9b98-4821-928e-541e6698a417",
   "metadata": {},
   "outputs": [],
   "source": [
    "def str_formatter(string, pp, cycle):\n",
    "    pp.text(string)\n",
    "\n",
    "plain = get_ipython().display_formatter.formatters['text/plain']\n",
    "plain.for_type(str, str_formatter)"
   ]
  },
  {
   "cell_type": "code",
   "execution_count": null,
   "id": "7f78a7b4-78a6-43cb-8ad6-2c459bab2794",
   "metadata": {},
   "outputs": [],
   "source": [
    "FIGURES_DATA_PATH = f'{PROCESSED_PATH}/data/figures_affectnet'"
   ]
  },
  {
   "cell_type": "code",
   "execution_count": null,
   "id": "66e9c321-3b09-4efe-b347-ad1b1fca6f2d",
   "metadata": {},
   "outputs": [],
   "source": [
    "vocab=['angry', 'contempt', 'disgust', 'fear', 'happy', 'neutral', 'sad', 'surprise']\n",
    "\n",
    "basedataset = 'affectnet'"
   ]
  },
  {
   "cell_type": "markdown",
   "id": "0f4360c8-7015-49e6-8614-bf6d91b5156b",
   "metadata": {},
   "source": [
    "## Setup"
   ]
  },
  {
   "cell_type": "code",
   "execution_count": null,
   "id": "ff08ea3a-80ed-4ff0-984f-a0c6b4150ec1",
   "metadata": {},
   "outputs": [],
   "source": [
    "import torch\n",
    "import fastai\n",
    "print(torch.__version__)\n",
    "print(fastai.__version__)"
   ]
  },
  {
   "cell_type": "markdown",
   "id": "53c4959c-73f8-4518-a792-a9cdad6f3c4e",
   "metadata": {},
   "source": [
    "## Dataset analysis"
   ]
  },
  {
   "cell_type": "code",
   "execution_count": null,
   "id": "48e1f883-cafe-4323-9881-ebc0d86a9827",
   "metadata": {},
   "outputs": [],
   "source": [
    "ds = FERDataset2(basedataset, vocab=vocab)\n",
    "df = ds.getAggregatedCSV()"
   ]
  },
  {
   "cell_type": "code",
   "execution_count": null,
   "id": "ba181342-be03-4cb0-b494-7f63172f79ae",
   "metadata": {},
   "outputs": [],
   "source": [
    "counts = dict([(partition, df[df['partition']==partition]['race'].value_counts(sort=True, normalize=True)) for partition in ['train', 'val']])\n",
    "counts = pd.DataFrame(counts).sort_values(by = 'train', ascending=False)\n",
    "\n",
    "counts.index = counts.index.str.replace(' ', '\\n')\n",
    "counts.index = counts.index.str.replace('_', '\\n')\n",
    "\n",
    "counts.index = [''.join([c for c in name if c.isupper()]) for name in counts.index]\n",
    "\n",
    "counts.plot.bar(figsize=(3.4, 1.5),\n",
    "                  colormap = 'Accent')\n",
    "plt.xticks(range(len(counts.index)), counts.index, rotation=0)\n",
    "plt.ylabel('Data proportion')\n",
    "plt.show()\n",
    "\n",
    "plt.tight_layout()\n",
    "plt.savefig(FIGURES_DATA_PATH + '/source_race_distribution.pgf')"
   ]
  },
  {
   "cell_type": "code",
   "execution_count": null,
   "id": "f1edba2b-aa21-40be-bb6e-bb9585e5b51c",
   "metadata": {},
   "outputs": [],
   "source": [
    "counts"
   ]
  },
  {
   "cell_type": "code",
   "execution_count": null,
   "id": "5dfe0cb4-d1dd-4c89-8ec2-d9b4f4c648e8",
   "metadata": {},
   "outputs": [],
   "source": [
    "counts = {'train': df[df['partition']=='train']['gender'].value_counts(sort=True, normalize=True),\n",
    "          'val': df[df['partition']=='val']['gender'].value_counts(sort=True, normalize=True)}\n",
    "counts = pd.DataFrame(counts).sort_values(by = 'train')\n",
    "counts"
   ]
  },
  {
   "cell_type": "code",
   "execution_count": null,
   "id": "ed3eac2c-ed51-43eb-9374-6f9ab8d2d3cd",
   "metadata": {},
   "outputs": [],
   "source": [
    "counts = dict([(emotion, df[(df['partition']=='train') & (df['label']==emotion)]['gender'].value_counts(normalize=True)) for emotion in vocab])\n",
    "counts = pd.DataFrame(counts).T\n",
    "counts['diff'] = counts['Female'] - counts['Male']\n",
    "counts = counts.sort_values(by = 'diff')\n",
    "counts = counts.drop('diff', axis=1)\n",
    "\n",
    "axs = counts.plot.bar(figsize=(3.4, 2),\n",
    "                  colormap = 'Accent')\n",
    "plt.ylabel('Train dataset proportion')\n",
    "plt.legend(loc='lower right')\n",
    "\n",
    "plt.show()\n",
    "\n",
    "plt.tight_layout()\n",
    "plt.savefig(FIGURES_DATA_PATH + '/source_gender_distribution.pgf')"
   ]
  },
  {
   "cell_type": "code",
   "execution_count": null,
   "id": "17a9740c-4bae-4e69-88d8-ed347472c0e5",
   "metadata": {},
   "outputs": [],
   "source": [
    "counts"
   ]
  },
  {
   "cell_type": "code",
   "execution_count": null,
   "id": "ade8a8f9-4342-4626-bee8-5036e8b7385e",
   "metadata": {},
   "outputs": [],
   "source": [
    "def representationalBiasSummary(df, targets=['age', 'gender', 'race'], partition = 'train'):\n",
    "    res = {}\n",
    "    for target in targets:\n",
    "        bias, groups = representationalBias(df, target, partition)\n",
    "        res[f'{target}-groups'] = groups\n",
    "        res[f'{target}-bias'] = bias\n",
    "    return res\n",
    "\n",
    "def stereotypicalBiasSummary(df, targets=['age', 'gender', 'race'], partition = 'train'):\n",
    "    res = {}\n",
    "    for target in targets:\n",
    "        res[f'{target}-nmi'] = nmi(df[df['partition']==partition], 'label', target)\n",
    "    return res\n",
    "      \n",
    "table = {}\n",
    "targets = ['gender', 'race']\n",
    "\n",
    "datasets = {\n",
    "    'Original': basedataset,\n",
    "    'Race balanced': f'compdataset_{basedataset}_race_balanced',\n",
    "    'Gender balanced': f'compdataset_{basedataset}_gender_balanced',\n",
    "    'Gender biased (M)': f'compdataset_{basedataset}_gender_biased_Male-only',\n",
    "    'Gender biased (F)': f'compdataset_{basedataset}_gender_biased_Female-only',\n",
    "}\n",
    "\n",
    "for key, ds in datasets.items():\n",
    "    df = FERDataset2(ds, vocab=vocab, load=False).getAggregatedCSV()\n",
    "    table[key] = representationalBiasSummary(df, targets=targets)\n",
    "    table[key] = table[key] | stereotypicalBiasSummary(df, targets=targets)\n",
    "\n",
    "table = pd.DataFrame(table).T\n",
    "for target in targets:\n",
    "    table = table.astype({f\"{target}-groups\": int})\n",
    "table = table[[\n",
    "    'race-groups',\n",
    "    'race-bias',\n",
    "    'race-nmi',\n",
    "    'gender-groups',\n",
    "    'gender-bias',\n",
    "    'gender-nmi',\n",
    "]]\n",
    "display(table)"
   ]
  },
  {
   "cell_type": "code",
   "execution_count": null,
   "id": "1e100569-3ac0-49c4-8e3d-94d491f67555",
   "metadata": {},
   "outputs": [],
   "source": [
    "t2 = table.copy()\n",
    "# t2 = t2.reset_index()\n",
    "t2['race-groups'] = t2['race-groups'].apply(lambda x: f\"${x}$\")\n",
    "t2['gender-groups'] = t2['gender-groups'].apply(lambda x: f\"${x}$\")\n",
    "t2['race-bias'] = t2['race-bias'].apply(lambda x: f\"{x:.4f}\" if x>1e-10 else f\"$0$\")\n",
    "t2['gender-bias'] = t2['gender-bias'].apply(lambda x: f\"{x:.4f}\" if x>1e-10 else f\"$0$\")\n",
    "t2['race-nmi'] = t2['race-nmi'].apply(lambda x: f\"{x:.4f}\" if x>1e-10 else f\"$0$\")\n",
    "t2['gender-nmi'] = t2['gender-nmi'].apply(lambda x: f\"{x:.4f}\" if x>1e-10 else f\"$0$\")\n",
    "\n",
    "t2.insert(loc=0, column='Train data 1', value=['', 'Balanced', '', 'Gender biased', ''])\n",
    "t2.insert(loc=1, column='Train data 2', value=['Original', 'Race', 'Gender', 'M', 'F'])\n",
    "\n",
    "t2.columns = pd.MultiIndex.from_arrays([['', '', *['Race bias']*3, *['Gender bias']*3], ['Dataset', 'Dataset'] + ['Groups', 'NDS', 'NMI'] * 2])\n",
    "display(t2)\n",
    "t2.to_latex(index=False, escape=False)\n"
   ]
  },
  {
   "cell_type": "code",
   "execution_count": null,
   "id": "5e660c92-7004-4daa-817f-e16baa7792fe",
   "metadata": {},
   "outputs": [],
   "source": [
    "t2 = table[[\n",
    "    'race-bias',\n",
    "    'gender-bias',\n",
    "    'race-nmi',\n",
    "    'gender-nmi',\n",
    "]].copy()\n",
    "# t2 = t2.reset_index()\n",
    "t2['race-bias'] = t2['race-bias'].apply(lambda x: f\"${x:.4f}$\")\n",
    "t2['gender-bias'] = t2['gender-bias'].apply(lambda x: f\"${x:.4f}$\")\n",
    "t2['race-nmi'] = t2['race-nmi'].apply(lambda x: f\"${x:.4f}$\")\n",
    "t2['gender-nmi'] = t2['gender-nmi'].apply(lambda x: f\"${x:.4f}$\")\n",
    "\n",
    "t2.insert(loc=0, column='Train data 1', value=['Original', 'Balanced', '', 'Gender biased', ''])\n",
    "t2.insert(loc=1, column='Train data 2', value=['', 'Race', 'Gender', 'M', 'F'])\n",
    "\n",
    "t2.columns = pd.MultiIndex.from_arrays([[' ', ' ', \n",
    "                                         *['Representational bias (NSD)']*2, \n",
    "                                         *['Stereotypical bias (NMI)']*2], \n",
    "                                        ['Dataset', ' '] + ['Race (7)', 'Gender (2)'] * 2])\n",
    "display(t2)\n",
    "t2.to_latex(index=False, escape=False)\n"
   ]
  },
  {
   "cell_type": "code",
   "execution_count": null,
   "id": "e590d70f-d954-4883-97b4-702bbfe0f4d3",
   "metadata": {},
   "outputs": [],
   "source": [
    "def plotNPMIMatrixes(matrixes):\n",
    "    fig, axes = plt.subplots(ncols=len(matrixes), \n",
    "                             figsize=(3.2, 3),\n",
    "                             gridspec_kw={'width_ratios': [len(m.columns) for m in matrixes]},\n",
    "                             sharey=True)\n",
    "\n",
    "    for matrix, ax in zip(matrixes, axes):\n",
    "        if matrix.columns.name == 'gender':\n",
    "            matrix.columns = matrix.columns.str.replace('Female', 'F')\n",
    "            matrix.columns = matrix.columns.str.replace('Male', 'M')\n",
    "    \n",
    "        if matrix.columns.name == 'race':\n",
    "            matrix.columns = matrix.columns.str.replace('Black', 'B')\n",
    "            matrix.columns = matrix.columns.str.replace('East Asian', 'EA')\n",
    "            matrix.columns = matrix.columns.str.replace('Indian', 'I')\n",
    "            matrix.columns = matrix.columns.str.replace('Latino_Hispanic', 'LH')\n",
    "            matrix.columns = matrix.columns.str.replace('Middle Eastern', 'ME')\n",
    "            matrix.columns = matrix.columns.str.replace('Southeast Asian', 'SA')\n",
    "            matrix.columns = matrix.columns.str.replace('White', 'W')\n",
    "            matrix = matrix[['W', 'LH', 'ME', 'B', 'EA', 'I', 'SA']]\n",
    "            \n",
    "        ms = ax.matshow(matrix, cmap='RdBu', vmin = -0.2, vmax = 0.2)\n",
    "        ax.tick_params(axis=\"x\", bottom=True, top=False, labelbottom=True, labeltop=False)\n",
    "        ax.set_xticks(range(len(matrix.columns)), labels=matrix.columns)\n",
    "        if ax == axes[0]:\n",
    "            ax.set_yticks(range(len(matrix)), labels=matrix.index)\n",
    "        else:\n",
    "            ax.tick_params(axis=\"y\", left=False)\n",
    "\n",
    "        for (i,j), z in np.ndenumerate(matrix):\n",
    "            ax.text(j, i, f'{z:.2f}', ha=\"center\", va=\"center\", fontsize='xx-small', c='w' if abs(z)>0.1 else 'k')\n",
    "                \n",
    "    \n",
    "    fig.subplots_adjust(right=0.8)\n",
    "    cbar_ax = fig.add_axes([0.85, 0.3, 0.02, 0.4])\n",
    "    fig.colorbar(ms, cax=cbar_ax)\n",
    "    fig.show()\n",
    "\n",
    "df = FERDataset2(basedataset, vocab=vocab, load=False).getAggregatedCSV()\n",
    "\n",
    "targets = ['gender', 'race']\n",
    "mats = []\n",
    "for target in targets:\n",
    "    n = npmi(df, 'label', target)\n",
    "    mats.append(n)\n",
    "plotNPMIMatrixes(mats)\n",
    "\n",
    "fig = plt.gcf()\n",
    "plt.savefig(FIGURES_DATA_PATH + '/source_npmi.pgf', bbox_inches='tight')"
   ]
  },
  {
   "cell_type": "markdown",
   "id": "055c54fc-92aa-43dd-b818-498f09d33840",
   "metadata": {},
   "source": [
    "## Model analysis"
   ]
  },
  {
   "cell_type": "code",
   "execution_count": null,
   "id": "f8835a7e",
   "metadata": {},
   "outputs": [],
   "source": [
    "exp = 'exp_affectnet'"
   ]
  },
  {
   "cell_type": "code",
   "execution_count": null,
   "id": "b4de5ae8-0a99-42a4-bdd1-89c277168a00",
   "metadata": {},
   "outputs": [],
   "source": [
    "print(f'Exp: {exp}')\n",
    "SAVE_RESULTS = f'{RESULTS_PATH}/{exp}.pkl'\n",
    "results = pickle.load(open(SAVE_RESULTS, 'rb'))\n",
    "print(f'Experiment file [{exp}.pkl] loaded correctly')"
   ]
  },
  {
   "cell_type": "code",
   "execution_count": null,
   "id": "57e37be8-2452-47e9-a1b1-8ee6bec93383",
   "metadata": {},
   "outputs": [],
   "source": [
    "calculated_metrics = None"
   ]
  },
  {
   "cell_type": "code",
   "execution_count": null,
   "id": "1dc4fd53-4ef9-4ccd-9cee-9ee21b7f5416",
   "metadata": {},
   "outputs": [],
   "source": [
    "summaries, calc_metrics = bias_analysis(results, \n",
    "                              train_names=results['datasets_train'], \n",
    "                              test_names=[basedataset],\n",
    "                              targets=['race', 'gender'],\n",
    "                              measure = privilege_measurement,\n",
    "                              vocab=vocab)"
   ]
  },
  {
   "cell_type": "code",
   "execution_count": null,
   "id": "1f76ee69-1421-40cf-aeeb-83ec94d63e9f",
   "metadata": {},
   "outputs": [],
   "source": [
    "resultsDF = generateResultsDF(results, vocab=vocab)\n",
    "stats = {}\n",
    "for train in resultsDF['train'].unique():\n",
    "    filtered = resultsDF[resultsDF['train'] == train]\n",
    "    stats_train = {}\n",
    "    for label in vocab:\n",
    "        for gender in ['Male', 'Female']:\n",
    "            filtered_label = filtered[(filtered['l_true'] == label) & (filtered['gender'] == gender)]\n",
    "            recall = (filtered_label['l_pred'] == label).sum() / len(filtered_label)\n",
    "            stats_train[(label, gender)] = recall\n",
    "        stats_train[(label, 'Diff')] = abs(stats_train[(label, 'Male')] - stats_train[(label, 'Female')])\n",
    "    stats[train] = stats_train\n",
    "statsDF = pd.DataFrame(stats).T\n",
    "displayDF(statsDF * 100, style='global')"
   ]
  },
  {
   "cell_type": "code",
   "execution_count": null,
   "id": "07641297-8dbd-410c-8603-22d4d291fb7c",
   "metadata": {},
   "outputs": [],
   "source": [
    "# Gráfica unificada\n",
    "\n",
    "x = summaries[basedataset]['race']['size']\n",
    "y0 = summaries[basedataset]['race']['accuracy_mean']\n",
    "y0_e = summaries[basedataset]['race']['accuracy_std']\n",
    "y1 = summaries[basedataset]['race']['metric_mean']\n",
    "y1_e = summaries[basedataset]['race']['metric_std']\n",
    "y2 = summaries[basedataset]['gender']['metric_mean']\n",
    "y2_e = summaries[basedataset]['gender']['metric_std']\n",
    "\n",
    "\n",
    "partials = 10\n",
    "\n",
    "labels = summaries[basedataset]['gender'].index\n",
    "\n",
    "labels = labels.str.replace(f'{basedataset}_sub_', 'Original / ')\n",
    "labels = labels.str.replace('/ 1\\.0', '', regex=True)\n",
    "labels = labels.str.replace('compdataset_', '', regex=True)\n",
    "labels = labels.str.replace('_', ' ')\n",
    "labels = labels.str.capitalize()\n",
    "labels = labels.str.replace('female-only', '(F)')\n",
    "labels = labels.str.replace('male-only', '(M)')\n",
    "labels = labels.str.replace('Ferplus', 'FER+')\n",
    "\n",
    "cmap = plt.get_cmap('Dark2')\n",
    "\n",
    "fig, axes = plt.subplots(3, 1, figsize=(3.4, 3.6), sharex = True)\n",
    "ax1 = axes.flatten()[0]\n",
    "ax2 = axes.flatten()[1]\n",
    "ax3 = axes.flatten()[2]\n",
    "\n",
    "linewidth = 0.8\n",
    "alpha = 0.3\n",
    "\n",
    "l1 = ax1.plot(x[:partials], y0[:partials], label='Stratified subsets', c=cmap(7), linewidth=linewidth)\n",
    "ax1.fill_between(x[:partials], y0[:partials]-y0_e[:partials], y0[:partials]+y0_e[:partials], \n",
    "                 color=cmap(7), alpha=alpha, linewidth=0)\n",
    "\n",
    "l2 = ax2.plot(x[:partials], y1[:partials], label='Stratified subsets', c=cmap(7), linewidth=linewidth)\n",
    "ax2.fill_between(x[:partials], y1[:partials]-y1_e[:partials], y1[:partials]+y1_e[:partials], \n",
    "                 color=cmap(7), alpha=alpha, linewidth=0)\n",
    "\n",
    "l3 = ax3.plot(x[:partials], y2[:partials], label='Stratified subsets', c=cmap(7), linewidth=linewidth)\n",
    "ax3.fill_between(x[:partials], y2[:partials]-y2_e[:partials], y2[:partials]+y2_e[:partials], \n",
    "                 color=cmap(7), alpha=alpha, linewidth=0)\n",
    "\n",
    "elinewidth = 0.8\n",
    "markersize = 4\n",
    "markersize2 = 16\n",
    "# capsize = 0.4\n",
    "capsize = 2\n",
    "\n",
    "i = partials\n",
    "marker = (3, 0, 0)\n",
    "p1 = ax1.errorbar(x[i], y0[i], yerr=y0_e[i], marker=None, markersize=0, label=labels[i], color=cmap(0), linewidth=elinewidth, capsize=capsize)\n",
    "p2 = ax2.errorbar(x[i], y1[i], yerr=y1_e[i], marker=marker, markersize=markersize, label=labels[i], color=cmap(0), linewidth=elinewidth, capsize=capsize)\n",
    "p1 = ax1.scatter(x[i], y0[i], [markersize2], marker=marker, label=labels[i], color=cmap(0), linewidths=1.0)\n",
    "\n",
    "i = partials +3\n",
    "marker = (6, 0, 0)\n",
    "p5 = ax1.errorbar(x[i], y0[i], yerr=y0_e[i], marker=marker, markersize=markersize, label=labels[i], color=cmap(2), linewidth=elinewidth, capsize=capsize)\n",
    "p6 = ax3.errorbar(x[i], y2[i], yerr=y2_e[i], marker=marker, markersize=markersize, label=labels[i], color=cmap(2), linewidth=elinewidth, capsize=capsize)\n",
    "p5 = ax1.scatter(x[i], y0[i], [markersize2], marker=marker, label=labels[i], color=cmap(2), linewidths=1.0)\n",
    "\n",
    "i = partials +2\n",
    "marker = (5, 0, 0)\n",
    "p3 = ax1.errorbar(x[i], y0[i], yerr=y0_e[i], marker=marker, markersize=markersize, label=labels[i], color=cmap(3), linewidth=elinewidth, capsize=capsize)\n",
    "p4 = ax3.errorbar(x[i], y2[i], yerr=y2_e[i], marker=marker, markersize=markersize, label=labels[i], color=cmap(3), linewidth=elinewidth, capsize=capsize)\n",
    "p3 = ax1.scatter(x[i], y0[i], [markersize2], marker=marker, label=labels[i], color=cmap(3), linewidths=1.0)\n",
    "\n",
    "i = partials +1\n",
    "marker = (4, 0, 0)\n",
    "p1b = ax1.errorbar(x[i], y0[i], yerr=y0_e[i], marker=marker, markersize=markersize, label=labels[i], color=cmap(5), linewidth=elinewidth, capsize=capsize)\n",
    "p2b = ax3.errorbar(x[i], y2[i], yerr=y2_e[i], marker=marker, markersize=markersize, label=labels[i], color=cmap(5), linewidth=elinewidth, capsize=capsize)\n",
    "p1b = ax1.scatter(x[i], y0[i], [markersize2], marker=marker, label=labels[i], color=cmap(5), linewidths=1.0)\n",
    "\n",
    "\n",
    "# ax1.legend(fontsize='x-small')\n",
    "fig.legend(handles=[*l1, p1, p1b, p3, p5], fontsize='x-small', \n",
    "           loc='center right',\n",
    "           bbox_to_anchor=[0, 0.2, 1, 0.8],\n",
    "           framealpha=1.0,\n",
    "           markerscale=1.3)\n",
    "\n",
    "ax1.spines['top'].set_visible(False)\n",
    "ax1.spines['right'].set_visible(False)\n",
    "ax2.spines['top'].set_visible(False)\n",
    "ax2.spines['right'].set_visible(False)\n",
    "ax3.spines['top'].set_visible(False)\n",
    "ax3.spines['right'].set_visible(False)\n",
    "\n",
    "ax3.set_xlabel('Training size')\n",
    "ax1.set_ylabel('Accuracy')\n",
    "ax2.set_ylabel('Model racial bias')\n",
    "ax3.set_ylabel('Model gender bias')\n",
    "ax3.xaxis.set_major_formatter(\"{x:,.0f}\")\n",
    "plt.yticks(fontsize='x-small')\n",
    "plt.show()\n",
    "# plt.tight_layout()\n",
    "plt.savefig(FIGURES_DATA_PATH + '/model_racialgender.pgf', bbox_inches='tight')"
   ]
  },
  {
   "cell_type": "code",
   "execution_count": null,
   "id": "06c28962-5508-46b2-923a-f8c8c02d6091",
   "metadata": {},
   "outputs": [],
   "source": [
    "composed = summaries[basedataset]['race'][['size']].copy()\n",
    "composed['size'] = composed['size'].apply(lambda x: f\"{int(x):,}\")\n",
    "composed.rename(columns = {'size':'Size'}, inplace = True)\n",
    "composed['Accuracy'] = (\"$\" + \n",
    "                        (summaries[basedataset]['race']['accuracy_mean'] * 100).apply(lambda x: f\"{x:.1f}\") + \n",
    "                        \"\\pm\" + \n",
    "                        (summaries[basedataset]['race']['accuracy_std'] * 100).apply(lambda x: f\"{x:.1f}\") +\n",
    "                        \"$\")\n",
    "composed['Race bias'] = (\"$\" + \n",
    "                           (summaries[basedataset]['race']['metric_mean']).apply(lambda x: f\"{x:.3f}\") + \n",
    "                           \"\\pm\" + \n",
    "                           (summaries[basedataset]['race']['metric_std']).apply(lambda x: f\"{x:.3f}\") +\n",
    "                           \"$\")\n",
    "composed['Gender bias'] = (\"$\" + \n",
    "                           (summaries[basedataset]['gender']['metric_mean']).apply(lambda x: f\"{x:.3f}\") + \n",
    "                           \"\\pm\" + \n",
    "                           (summaries[basedataset]['gender']['metric_std']).apply(lambda x: f\"{x:.3f}\") +\n",
    "                           \"$\")\n",
    "\n",
    "datasets = list(composed.index)\n",
    "datasets1 = [''] * len(datasets)\n",
    "datasets2 = [''] * len(datasets)\n",
    "datasets1[0] = 'Original'\n",
    "datasets2[:10] = [f'{float(d.split(\"_\")[2]) * 100:.0f}\\%' for d in datasets[:10]]\n",
    "datasets1[10] = 'Balanced'\n",
    "datasets2[10] = 'Race'\n",
    "datasets2[11] = 'Gender'\n",
    "datasets1[12] = 'Gender biased'\n",
    "datasets2[12] = 'M'\n",
    "datasets2[13] = 'F'\n",
    "\n",
    "composed.insert(loc=0, column='Train data 1', value=datasets1)\n",
    "composed.insert(loc=1, column='Train data 2', value=datasets2)\n",
    "\n",
    "composed.columns = pd.MultiIndex.from_arrays([['', '', '', '', 'Bias', 'Bias'], ['Train data', 'Train data', 'Size', 'Accuracy', 'Race OD', 'Gender OD']])\n",
    "display(composed)\n",
    "composed.to_latex(index=False, escape=False)"
   ]
  },
  {
   "cell_type": "code",
   "execution_count": null,
   "id": "1f3542ab-260f-4fc4-9bc5-26a0e6878150",
   "metadata": {},
   "outputs": [],
   "source": []
  }
 ],
 "metadata": {
  "kernelspec": {
   "display_name": "Python 3 (ipykernel)",
   "language": "python",
   "name": "python3"
  },
  "language_info": {
   "codemirror_mode": {
    "name": "ipython",
    "version": 3
   },
   "file_extension": ".py",
   "mimetype": "text/x-python",
   "name": "python",
   "nbconvert_exporter": "python",
   "pygments_lexer": "ipython3",
   "version": "3.9.12"
  }
 },
 "nbformat": 4,
 "nbformat_minor": 5
}
